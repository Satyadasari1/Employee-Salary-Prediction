{
  "nbformat": 4,
  "nbformat_minor": 0,
  "metadata": {
    "colab": {
      "provenance": [],
      "authorship_tag": "ABX9TyP4BPjR+Dms+fL8kMUNvX5Z",
      "include_colab_link": true
    },
    "kernelspec": {
      "name": "python3",
      "display_name": "Python 3"
    },
    "language_info": {
      "name": "python"
    }
  },
  "cells": [
    {
      "cell_type": "markdown",
      "metadata": {
        "id": "view-in-github",
        "colab_type": "text"
      },
      "source": [
        "<a href=\"https://colab.research.google.com/github/Satyadasari1/Employee-Salary-Prediction/blob/main/Employee_Salary_Prediction.ipynb\" target=\"_parent\"><img src=\"https://colab.research.google.com/assets/colab-badge.svg\" alt=\"Open In Colab\"/></a>"
      ]
    },
    {
      "cell_type": "code",
      "execution_count": 1,
      "metadata": {
        "colab": {
          "base_uri": "https://localhost:8080/"
        },
        "id": "_WjwWJ_lXXod",
        "outputId": "6fa05131-47dc-45ce-a5e1-e65c6a3cfca7"
      },
      "outputs": [
        {
          "output_type": "stream",
          "name": "stdout",
          "text": [
            "Model R² Score: 0.88\n"
          ]
        }
      ],
      "source": [
        "\n",
        "import numpy as np\n",
        "import pandas as pd\n",
        "from sklearn.ensemble import RandomForestRegressor\n",
        "from sklearn.model_selection import train_test_split\n",
        "from sklearn.metrics import r2_score\n",
        "import pickle\n",
        "\n",
        "# Generate synthetic dataset\n",
        "np.random.seed(42)\n",
        "data = pd.DataFrame({\n",
        "    'experience': np.random.randint(0, 20, 500),\n",
        "    'education': np.random.randint(1, 4, 500),   # 1: Graduate, 2: Masters, 3: PhD\n",
        "    'industry': np.random.randint(1, 6, 500),    # 1 to 5 industries\n",
        "    'job': np.random.randint(1, 11, 500)         # 1 to 10 job roles\n",
        "})\n",
        "\n",
        "# Create salary with noise\n",
        "data['salary'] = (\n",
        "    data['experience'] * 5000 +\n",
        "    data['education'] * 10000 +\n",
        "    data['industry'] * 7000 +\n",
        "    data['job'] * 3000 +\n",
        "    np.random.normal(0, 10000, 500)\n",
        ")\n",
        "\n",
        "# Features and labels\n",
        "X = data[['experience', 'education', 'industry', 'job']]\n",
        "y = data['salary']\n",
        "\n",
        "# Train-test split\n",
        "X_train, X_test, y_train, y_test = train_test_split(X, y, test_size=0.2)\n",
        "\n",
        "# Model training\n",
        "model = RandomForestRegressor()\n",
        "model.fit(X_train, y_train)\n",
        "\n",
        "# Model evaluation\n",
        "y_pred = model.predict(X_test)\n",
        "score = r2_score(y_test, y_pred)\n",
        "\n",
        "print(f\"Model R² Score: {round(score, 2)}\")\n",
        "\n",
        "# Save model\n",
        "with open('salary_model.pkl', 'wb') as f:\n",
        "    pickle.dump(model, f)\n",
        "\n",
        "# Save dataset\n",
        "data.to_csv('salary_data.csv', index=False)"
      ]
    }
  ]
}